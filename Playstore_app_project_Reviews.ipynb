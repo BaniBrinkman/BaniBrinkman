{
  "nbformat": 4,
  "nbformat_minor": 0,
  "metadata": {
    "colab": {
      "provenance": [],
      "include_colab_link": true
    },
    "kernelspec": {
      "name": "python3",
      "display_name": "Python 3"
    },
    "language_info": {
      "name": "python"
    }
  },
  "cells": [
    {
      "cell_type": "markdown",
      "metadata": {
        "id": "view-in-github",
        "colab_type": "text"
      },
      "source": [
        "<a href=\"https://colab.research.google.com/github/BaniBrinkman/BaniBrinkman/blob/main/Playstore_app_project_Reviews.ipynb\" target=\"_parent\"><img src=\"https://colab.research.google.com/assets/colab-badge.svg\" alt=\"Open In Colab\"/></a>"
      ]
    },
    {
      "cell_type": "markdown",
      "source": [
        "# **Exploring the Dataset**"
      ],
      "metadata": {
        "id": "ZPLRhzh__Tqc"
      }
    },
    {
      "cell_type": "markdown",
      "source": [
        "## Importing the libraries & data\n",
        "\n",
        "---\n",
        "\n"
      ],
      "metadata": {
        "id": "_xDQvzJ__ffi"
      }
    },
    {
      "cell_type": "code",
      "execution_count": null,
      "metadata": {
        "id": "c0jS2pXAHgIZ"
      },
      "outputs": [],
      "source": [
        "# import all the necessary libraries\n",
        "\n",
        "import math\n",
        "import pandas as pd\n",
        "import numpy as np\n",
        "import seaborn as sns\n",
        "sns.set()\n",
        "sns.set_style(\"white\")\n",
        "from scipy import stats\n",
        "import matplotlib.pyplot as plt\n",
        "\n",
        "# suppress warnings \n",
        "import warnings\n",
        "warnings.filterwarnings('ignore') \n"
      ]
    },
    {
      "cell_type": "code",
      "source": [
        "#Import the data from Google Drive\n",
        "\n",
        "from google.colab import drive\n",
        "drive.mount('/content/gdrive',force_remount=True)\n",
        "\n",
        "\n",
        "df = pd.read_csv('/content/gdrive/MyDrive/Colab Notebooks/playstore_reviews.csv', index_col='App')\n"
      ],
      "metadata": {
        "colab": {
          "base_uri": "https://localhost:8080/"
        },
        "id": "gp8303ROHj0e",
        "outputId": "5ac1a043-ac4f-4df8-faaf-f032bb1c585a"
      },
      "execution_count": null,
      "outputs": [
        {
          "output_type": "stream",
          "name": "stdout",
          "text": [
            "Mounted at /content/gdrive\n"
          ]
        }
      ]
    },
    {
      "cell_type": "markdown",
      "source": [
        "## Getting to know the data"
      ],
      "metadata": {
        "id": "VGfFJx_yAB6W"
      }
    },
    {
      "cell_type": "code",
      "source": [
        "#Checking the general information of the dataset\n",
        "print('---- General Info ----')\n",
        "df.info()\n",
        "print('\\n')\n",
        "print('---- First 5 rows ----')\n",
        "df.head(5)"
      ],
      "metadata": {
        "colab": {
          "base_uri": "https://localhost:8080/",
          "height": 505
        },
        "id": "2wGNlRUvJTRq",
        "outputId": "4cfa8fdd-6fbf-47f9-843f-97a84a3ab359"
      },
      "execution_count": null,
      "outputs": [
        {
          "output_type": "stream",
          "name": "stdout",
          "text": [
            "---- General Info ----\n",
            "<class 'pandas.core.frame.DataFrame'>\n",
            "Index: 64295 entries, 10 Best Foods for You to Houzz Interior Design Ideas\n",
            "Data columns (total 4 columns):\n",
            " #   Column                  Non-Null Count  Dtype  \n",
            "---  ------                  --------------  -----  \n",
            " 0   Translated_Review       37427 non-null  object \n",
            " 1   Sentiment               37432 non-null  object \n",
            " 2   Sentiment_Polarity      37432 non-null  float64\n",
            " 3   Sentiment_Subjectivity  37432 non-null  float64\n",
            "dtypes: float64(2), object(2)\n",
            "memory usage: 2.5+ MB\n",
            "\n",
            "\n",
            "---- First 5 rows ----\n"
          ]
        },
        {
          "output_type": "execute_result",
          "data": {
            "text/plain": [
              "                                                       Translated_Review  \\\n",
              "App                                                                        \n",
              "10 Best Foods for You  I like eat delicious food. That's I'm cooking ...   \n",
              "10 Best Foods for You    This help eating healthy exercise regular basis   \n",
              "10 Best Foods for You                                                NaN   \n",
              "10 Best Foods for You         Works great especially going grocery store   \n",
              "10 Best Foods for You                                       Best idea us   \n",
              "\n",
              "                      Sentiment  Sentiment_Polarity  Sentiment_Subjectivity  \n",
              "App                                                                          \n",
              "10 Best Foods for You  Positive                1.00                0.533333  \n",
              "10 Best Foods for You  Positive                0.25                0.288462  \n",
              "10 Best Foods for You       NaN                 NaN                     NaN  \n",
              "10 Best Foods for You  Positive                0.40                0.875000  \n",
              "10 Best Foods for You  Positive                1.00                0.300000  "
            ],
            "text/html": [
              "\n",
              "  <div id=\"df-44ed3164-dcd7-49e3-a2eb-1a71e41ae74b\">\n",
              "    <div class=\"colab-df-container\">\n",
              "      <div>\n",
              "<style scoped>\n",
              "    .dataframe tbody tr th:only-of-type {\n",
              "        vertical-align: middle;\n",
              "    }\n",
              "\n",
              "    .dataframe tbody tr th {\n",
              "        vertical-align: top;\n",
              "    }\n",
              "\n",
              "    .dataframe thead th {\n",
              "        text-align: right;\n",
              "    }\n",
              "</style>\n",
              "<table border=\"1\" class=\"dataframe\">\n",
              "  <thead>\n",
              "    <tr style=\"text-align: right;\">\n",
              "      <th></th>\n",
              "      <th>Translated_Review</th>\n",
              "      <th>Sentiment</th>\n",
              "      <th>Sentiment_Polarity</th>\n",
              "      <th>Sentiment_Subjectivity</th>\n",
              "    </tr>\n",
              "    <tr>\n",
              "      <th>App</th>\n",
              "      <th></th>\n",
              "      <th></th>\n",
              "      <th></th>\n",
              "      <th></th>\n",
              "    </tr>\n",
              "  </thead>\n",
              "  <tbody>\n",
              "    <tr>\n",
              "      <th>10 Best Foods for You</th>\n",
              "      <td>I like eat delicious food. That's I'm cooking ...</td>\n",
              "      <td>Positive</td>\n",
              "      <td>1.00</td>\n",
              "      <td>0.533333</td>\n",
              "    </tr>\n",
              "    <tr>\n",
              "      <th>10 Best Foods for You</th>\n",
              "      <td>This help eating healthy exercise regular basis</td>\n",
              "      <td>Positive</td>\n",
              "      <td>0.25</td>\n",
              "      <td>0.288462</td>\n",
              "    </tr>\n",
              "    <tr>\n",
              "      <th>10 Best Foods for You</th>\n",
              "      <td>NaN</td>\n",
              "      <td>NaN</td>\n",
              "      <td>NaN</td>\n",
              "      <td>NaN</td>\n",
              "    </tr>\n",
              "    <tr>\n",
              "      <th>10 Best Foods for You</th>\n",
              "      <td>Works great especially going grocery store</td>\n",
              "      <td>Positive</td>\n",
              "      <td>0.40</td>\n",
              "      <td>0.875000</td>\n",
              "    </tr>\n",
              "    <tr>\n",
              "      <th>10 Best Foods for You</th>\n",
              "      <td>Best idea us</td>\n",
              "      <td>Positive</td>\n",
              "      <td>1.00</td>\n",
              "      <td>0.300000</td>\n",
              "    </tr>\n",
              "  </tbody>\n",
              "</table>\n",
              "</div>\n",
              "      <button class=\"colab-df-convert\" onclick=\"convertToInteractive('df-44ed3164-dcd7-49e3-a2eb-1a71e41ae74b')\"\n",
              "              title=\"Convert this dataframe to an interactive table.\"\n",
              "              style=\"display:none;\">\n",
              "        \n",
              "  <svg xmlns=\"http://www.w3.org/2000/svg\" height=\"24px\"viewBox=\"0 0 24 24\"\n",
              "       width=\"24px\">\n",
              "    <path d=\"M0 0h24v24H0V0z\" fill=\"none\"/>\n",
              "    <path d=\"M18.56 5.44l.94 2.06.94-2.06 2.06-.94-2.06-.94-.94-2.06-.94 2.06-2.06.94zm-11 1L8.5 8.5l.94-2.06 2.06-.94-2.06-.94L8.5 2.5l-.94 2.06-2.06.94zm10 10l.94 2.06.94-2.06 2.06-.94-2.06-.94-.94-2.06-.94 2.06-2.06.94z\"/><path d=\"M17.41 7.96l-1.37-1.37c-.4-.4-.92-.59-1.43-.59-.52 0-1.04.2-1.43.59L10.3 9.45l-7.72 7.72c-.78.78-.78 2.05 0 2.83L4 21.41c.39.39.9.59 1.41.59.51 0 1.02-.2 1.41-.59l7.78-7.78 2.81-2.81c.8-.78.8-2.07 0-2.86zM5.41 20L4 18.59l7.72-7.72 1.47 1.35L5.41 20z\"/>\n",
              "  </svg>\n",
              "      </button>\n",
              "      \n",
              "  <style>\n",
              "    .colab-df-container {\n",
              "      display:flex;\n",
              "      flex-wrap:wrap;\n",
              "      gap: 12px;\n",
              "    }\n",
              "\n",
              "    .colab-df-convert {\n",
              "      background-color: #E8F0FE;\n",
              "      border: none;\n",
              "      border-radius: 50%;\n",
              "      cursor: pointer;\n",
              "      display: none;\n",
              "      fill: #1967D2;\n",
              "      height: 32px;\n",
              "      padding: 0 0 0 0;\n",
              "      width: 32px;\n",
              "    }\n",
              "\n",
              "    .colab-df-convert:hover {\n",
              "      background-color: #E2EBFA;\n",
              "      box-shadow: 0px 1px 2px rgba(60, 64, 67, 0.3), 0px 1px 3px 1px rgba(60, 64, 67, 0.15);\n",
              "      fill: #174EA6;\n",
              "    }\n",
              "\n",
              "    [theme=dark] .colab-df-convert {\n",
              "      background-color: #3B4455;\n",
              "      fill: #D2E3FC;\n",
              "    }\n",
              "\n",
              "    [theme=dark] .colab-df-convert:hover {\n",
              "      background-color: #434B5C;\n",
              "      box-shadow: 0px 1px 3px 1px rgba(0, 0, 0, 0.15);\n",
              "      filter: drop-shadow(0px 1px 2px rgba(0, 0, 0, 0.3));\n",
              "      fill: #FFFFFF;\n",
              "    }\n",
              "  </style>\n",
              "\n",
              "      <script>\n",
              "        const buttonEl =\n",
              "          document.querySelector('#df-44ed3164-dcd7-49e3-a2eb-1a71e41ae74b button.colab-df-convert');\n",
              "        buttonEl.style.display =\n",
              "          google.colab.kernel.accessAllowed ? 'block' : 'none';\n",
              "\n",
              "        async function convertToInteractive(key) {\n",
              "          const element = document.querySelector('#df-44ed3164-dcd7-49e3-a2eb-1a71e41ae74b');\n",
              "          const dataTable =\n",
              "            await google.colab.kernel.invokeFunction('convertToInteractive',\n",
              "                                                     [key], {});\n",
              "          if (!dataTable) return;\n",
              "\n",
              "          const docLinkHtml = 'Like what you see? Visit the ' +\n",
              "            '<a target=\"_blank\" href=https://colab.research.google.com/notebooks/data_table.ipynb>data table notebook</a>'\n",
              "            + ' to learn more about interactive tables.';\n",
              "          element.innerHTML = '';\n",
              "          dataTable['output_type'] = 'display_data';\n",
              "          await google.colab.output.renderOutput(dataTable, element);\n",
              "          const docLink = document.createElement('div');\n",
              "          docLink.innerHTML = docLinkHtml;\n",
              "          element.appendChild(docLink);\n",
              "        }\n",
              "      </script>\n",
              "    </div>\n",
              "  </div>\n",
              "  "
            ]
          },
          "metadata": {},
          "execution_count": 12
        }
      ]
    },
    {
      "cell_type": "markdown",
      "source": [
        "## Data Cleaning"
      ],
      "metadata": {
        "id": "kze61VXtAfD3"
      }
    },
    {
      "cell_type": "markdown",
      "source": [
        "**Removing Duplicates**"
      ],
      "metadata": {
        "id": "_pUfl8qCAvim"
      }
    },
    {
      "cell_type": "code",
      "source": [
        "df.drop_duplicates(keep=False,inplace=True)\n",
        "df.info()"
      ],
      "metadata": {
        "colab": {
          "base_uri": "https://localhost:8080/"
        },
        "id": "qtNz1kErMEoc",
        "outputId": "9bc2f88d-29d9-4d28-c07d-ff7999df9db5"
      },
      "execution_count": null,
      "outputs": [
        {
          "output_type": "stream",
          "name": "stdout",
          "text": [
            "<class 'pandas.core.frame.DataFrame'>\n",
            "Index: 22593 entries, 104 找工作 - 找工作 找打工 找兼職 履歷健檢 履歷診療室 to Housing-Real Estate & Property\n",
            "Data columns (total 4 columns):\n",
            " #   Column                  Non-Null Count  Dtype  \n",
            "---  ------                  --------------  -----  \n",
            " 0   Translated_Review       22593 non-null  object \n",
            " 1   Sentiment               22593 non-null  object \n",
            " 2   Sentiment_Polarity      22593 non-null  float64\n",
            " 3   Sentiment_Subjectivity  22593 non-null  float64\n",
            "dtypes: float64(2), object(2)\n",
            "memory usage: 882.5+ KB\n"
          ]
        }
      ]
    },
    {
      "cell_type": "markdown",
      "source": [
        "**Dropping Nulls**"
      ],
      "metadata": {
        "id": "uAbdBqMpA1Xk"
      }
    },
    {
      "cell_type": "code",
      "source": [
        "#Checking the null values\n",
        "null_value_rows = df[df.isnull().any(axis = 1)]\n",
        "print(f'There are total of {len(null_value_rows)} rows with a null value in the dataset')\n",
        "df.isnull().sum()"
      ],
      "metadata": {
        "id": "JVuX0a72-xTC",
        "colab": {
          "base_uri": "https://localhost:8080/"
        },
        "outputId": "9b3468d8-762a-46e7-d59b-ff9fe9e0c71b"
      },
      "execution_count": null,
      "outputs": [
        {
          "output_type": "stream",
          "name": "stdout",
          "text": [
            "There are total of 73 rows with a null value in the dataset\n"
          ]
        },
        {
          "output_type": "execute_result",
          "data": {
            "text/plain": [
              "App                        0\n",
              "Translated_Review         73\n",
              "Sentiment                 68\n",
              "Sentiment_Polarity        68\n",
              "Sentiment_Subjectivity    68\n",
              "dtype: int64"
            ]
          },
          "metadata": {},
          "execution_count": 6
        }
      ]
    },
    {
      "cell_type": "code",
      "source": [
        "#Dropping the null values\n",
        "clean_df = df.dropna(subset=['Translated_Review', 'Sentiment', 'Sentiment_Polarity', 'Sentiment_Subjectivity'])\n",
        "\n",
        "#Checking the remaining null values\n",
        "print(clean_df.isnull().sum())\n",
        "print('\\n')\n",
        "\n",
        "#Checking the size of the data\n",
        "print(f'This data now contains {clean_df.shape[0]} rows and {clean_df.shape[1]} columns')"
      ],
      "metadata": {
        "id": "u5CD3b-D-7qI",
        "colab": {
          "base_uri": "https://localhost:8080/"
        },
        "outputId": "7a0deda7-18a5-48fa-a87e-89d3599abb68"
      },
      "execution_count": null,
      "outputs": [
        {
          "output_type": "stream",
          "name": "stdout",
          "text": [
            "App                       0\n",
            "Translated_Review         0\n",
            "Sentiment                 0\n",
            "Sentiment_Polarity        0\n",
            "Sentiment_Subjectivity    0\n",
            "dtype: int64\n",
            "\n",
            "\n",
            "This data now contains 24254 rows and 5 columns\n"
          ]
        }
      ]
    },
    {
      "cell_type": "markdown",
      "source": [
        "**Checking for unique values**"
      ],
      "metadata": {
        "id": "zz9jxJ3PBx0R"
      }
    },
    {
      "cell_type": "code",
      "source": [
        "print('Finding unique values in each column')\n",
        "for i in clean_df.columns[:]:\n",
        "  print(\"-\"*75)\n",
        "  print(\"no of unique values of \",i,\" column :\", clean_df[i].nunique())\n",
        "  print(\"unique values:\")\n",
        "  print(clean_df[i].unique())"
      ],
      "metadata": {
        "colab": {
          "base_uri": "https://localhost:8080/"
        },
        "id": "pRVfeb40t9Ek",
        "outputId": "1922773c-ee9f-4800-f4e0-70fb0ee312f1"
      },
      "execution_count": null,
      "outputs": [
        {
          "output_type": "stream",
          "name": "stdout",
          "text": [
            "Finding unique values in each column\n",
            "---------------------------------------------------------------------------\n",
            "no of unique values of  App  column : 824\n",
            "unique values:\n",
            "['104 找工作 - 找工作 找打工 找兼職 履歷健檢 履歷診療室' '11st'\n",
            " '1LINE – One Line with One Touch'\n",
            " '2018Emoji Keyboard 😂 Emoticons Lite -sticker&gif'\n",
            " '21-Day Meditation Experience' '2Date Dating App, Love and matching'\n",
            " '2GIS: directory & navigator' '2RedBeans' '2ndLine - Second Phone Number'\n",
            " '30 Day Fitness Challenge - Workout at Home' '365Scores - Live Scores'\n",
            " '3D Live Neon Weed Launcher' '4 in a Row'\n",
            " '4K Wallpapers and Ultra HD Backgrounds'\n",
            " '591房屋交易-租屋、中古屋、新建案、實價登錄、別墅透天、公寓套房、捷運、買房賣房行情、房價房貸查詢' '591房屋交易-香港'\n",
            " '7 Cups: Anxiety & Stress Chat' '7 Day Food Journal Challenge'\n",
            " '7 Minute Workout' '7 Weeks - Habit & Goal Tracker' '8 Ball Pool'\n",
            " '850 Sports News Digest' '8fit Workouts & Meal Planner'\n",
            " 'A Call From Santa Claus!' 'A Word A Day'\n",
            " 'A&E - Watch Full Episodes of TV Shows' 'A+ Gallery - Photos & Videos'\n",
            " 'A+ Mobile' 'ABC Kids - Tracing & Phonics' 'ABC News - US & World News'\n",
            " 'ABC Preschool Free' 'ABCmouse.com' 'AC - Tips & News for Android™'\n",
            " 'ACE Elite' 'AD - Nieuws, Sport, Regio & Entertainment' 'AMC Theatres'\n",
            " 'ANA' 'AOL - News, Mail & Video' 'AP Mobile - Breaking News'\n",
            " 'APE Weather ( Live Forecast)'\n",
            " 'APUS Launcher - Theme, Wallpaper, Hide Apps' 'ARY NEWS' 'ARY NEWS URDU'\n",
            " 'ASOS' 'ASUS Calling Screen' 'ASUS Cover for ZenFone 2' 'ASUS Quick Memo'\n",
            " 'ASUS Sound Recorder' 'ASUS SuperNote' 'AT&T Navigator: Maps, Traffic'\n",
            " 'AT&T Smart Wi-Fi' 'AT&T Visual Voicemail'\n",
            " 'AVG Cleaner – Speed, Battery & Memory Booster'\n",
            " 'Abs Training-Burn belly fat' 'Account Manager'\n",
            " 'Accounting App - Zoho Books'\n",
            " 'AccuWeather: Daily Forecast & Live Weather Reports'\n",
            " 'Acorn TV: World-class TV from Britain and Beyond'\n",
            " 'Acorns - Invest Spare Change' 'AdWords Express'\n",
            " 'Ada - Your Health Guide' 'Add Text To Photo' 'Adobe Acrobat Reader'\n",
            " 'Adobe Photoshop Express:Photo Editor Collage Maker'\n",
            " 'Advanced Task Killer' 'Agar.io' 'Age Calculator'\n",
            " 'Agoda – Hotel Booking Deals' 'Air Traffic' 'AirAsia'\n",
            " 'AirBrush: Easy Photo Editor' 'Airbnb' 'Airport + Flight Tracker Radar'\n",
            " 'Airway Ex - Intubate. Anesthetize. Train.' 'Akinator'\n",
            " 'AlReader -any text book reader' 'Alarm Clock' 'Alarm Clock Free'\n",
            " 'Alfred Home Security Camera'\n",
            " 'AliExpress - Smarter Shopping, Better Living' 'All Email Providers'\n",
            " 'All Events in City' 'All Football - Latest News & Videos'\n",
            " 'All Football GO- Live Score, Games' 'All Language Translator Free'\n",
            " 'All Maths Formulas' 'All Mental disorders' 'All Social Networks'\n",
            " 'All Video Downloader 2018'\n",
            " 'All-In-One Toolbox: Cleaner, Booster, App Manager'\n",
            " 'All-in-One Mahjong 3 FREE' 'Allegiant' 'Allrecipes Dinner Spinner'\n",
            " \"Alto's Adventure\" 'Amazon Drive'\n",
            " 'Amazon FreeTime – Kids’ Videos, Books, & TV shows' 'Amazon Kindle'\n",
            " 'Amazon Prime Video' 'Amazon Shopping' 'Amazon for Tablets'\n",
            " 'American Airlines' 'Amex Mobile' 'Amino: Communities and Chats' 'Amtrak'\n",
            " 'Anatomy Learning - 3D Atlas' 'Ancestry' 'AndroZip™ FREE File Manager'\n",
            " 'Android Auto - Maps, Media, Messaging & Voice' 'Android Messages'\n",
            " 'Anger of stick 5 : zombie' 'Angry Birds 2' 'Angry Birds Classic'\n",
            " 'Angry Birds Rio' 'Animal Planet GO' 'Animated Photo Editor'\n",
            " 'Anime Avatar Creator: Make Your Own Avatar' 'Anime Manga Coloring Book'\n",
            " 'Anthem Anywhere' 'Anthem BC Anywhere'\n",
            " 'Any.do: To-do list, Calendar, Reminders & Planner'\n",
            " 'Apartment Decorating Ideas'\n",
            " 'Apartment List: Housing, Apt, and Property Rentals'\n",
            " 'Apartment, Home Rental Search: Realtor.com Rentals'\n",
            " 'Apartments & Rentals - Zillow' 'Apartments.com Rental Search'\n",
            " 'Apex Launcher' 'Apk Installer' 'App vault' 'AppLock'\n",
            " 'AppLock - Fingerprint' 'Apple Daily 蘋果動新聞' 'Aprender inglés con Wlingua'\n",
            " 'Archos File Manager' 'Arrow.io' 'Asana: organize team projects'\n",
            " 'Ascape VR: 360° Virtual Travel' 'Asphalt 8: Airborne'\n",
            " 'Associated Credit Union Mobile' 'Asteroids 3D live wallpaper'\n",
            " 'Atlan3D Navigation: Korea navigator' 'AutoCAD - DWG Viewer & Editor'\n",
            " 'AutoScout24 Switzerland – Find your new car'\n",
            " 'Avakin Life - 3D virtual world' 'Aviary Effects: Classic'\n",
            " 'Aviary Stickers: Free Pack' 'Azar' 'Azpen eReader'\n",
            " 'B612 - Beauty & Filter Camera' 'BBC Media Player' 'BBC News' 'BBC Sport'\n",
            " 'BBM - Free Calls & Messages' 'BBVA Compass Banking' 'BBVA Spain'\n",
            " 'BBW Dating & Curvy Singles Chat- LargeFriends'\n",
            " 'BBWCupid - BBW Dating App' 'BELONG Beating Cancer Together'\n",
            " 'BEST CAR SOUNDS' 'BEYBLADE BURST app' 'BIG Launcher'\n",
            " 'BLK - Swipe. Match. Chat.' 'BZWBK24 mobile' 'BaBe - Baca Berita'\n",
            " 'BaBe Lite - Baca Berita Hemat Kuota' 'BaBe+ - Berita Indonesia'\n",
            " 'Babbel – Learn Languages' 'Babbel – Learn Spanish'\n",
            " 'Baby ABC in box! Kids alphabet games for toddlers!' 'Baby Monitor'\n",
            " 'Baby Name Together' 'Baby Panda Care' 'Baby Panda Learns Shapes'\n",
            " 'Baby Panda Musical Genius' 'Baby Panda’s Juice Shop'\n",
            " 'Baby Tiger Care - My Cute Virtual Pet Friend' 'Baby puzzles'\n",
            " 'Baca- Berita Terbaru, Informasi, Gosip dan Politik'\n",
            " 'Backgrounds (HD Wallpapers)' 'Backgrounds HD (Wallpapers)'\n",
            " 'BaconReader for Reddit' 'Bad Piggies' 'Badoo - Free Chat & Dating App'\n",
            " 'Bagan - Myanmar Keyboard' 'Banco Itaú' 'Banco do Brasil'\n",
            " 'Bancomer móvil' 'Bangla Newspaper – Prothom Alo' 'Banjo'\n",
            " 'Bank of America Mobile Banking' 'BankMobile Vibe App' 'Banorte Movil'\n",
            " 'Banque Populaire' 'Barbie Life™' 'Barbie Magical Fashion'\n",
            " 'Barbie™ Fashion Closet' 'Barclays US for Android' 'Barcode Scanner'\n",
            " 'Baritastic - Bariatric Tracker' 'Baseball Boy!'\n",
            " 'Basketball FRVR - Shoot the Hoop and Slam Dunk!' 'Basketball Stars'\n",
            " 'Bathroom Decorating Ideas' 'Battlelands Royale' 'Be A Legend: Soccer'\n",
            " 'BeSoccer - Soccer Live Score' 'BeWild Free Dating & Chat App'\n",
            " 'Beautiful Design Birthday Cake' 'Beautiful Widgets Free'\n",
            " 'Beautiful Widgets Pro' 'Beauty Camera - Selfie Camera'\n",
            " 'Beauty Makeup Snappy Collage Photo Editor - Lidow'\n",
            " 'BeautyPlus - Easy Photo Editor & Selfie Camera'\n",
            " 'Bed Time Fan - White Noise Sleep Sounds' 'Best Car Wallpapers'\n",
            " 'Best Fiends - Free Puzzle Game'\n",
            " 'Best Ovulation Tracker Fertility Calendar App Glow'\n",
            " 'Best Wallpapers Backgrounds(100,000+ 4K HD)' 'Best Wallpapers QHD'\n",
            " 'BestCam Selfie-selfie, beauty camera, photo editor'\n",
            " 'BetterMe: Weight Loss Workouts' 'Betterment' 'BeyondMenu Food Delivery'\n",
            " 'BeyondPod Podcast Manager' 'Bible' 'Big Days - Events Countdown'\n",
            " 'BigOven Recipes, Meal Planner, Grocery List & More'\n",
            " 'BiggerCity: Chat for gay bears, chubs & chasers'\n",
            " 'Bike Computer - GPS Cycling Tracker' 'Binaural Beats Meditation'\n",
            " 'Binaural Beats Therapy' 'BioLife Plasma Services'\n",
            " 'Birdays – Birthday reminder' 'Birds Sounds Ringtones & Wallpapers'\n",
            " 'Black People Meet Singles Date' 'Block Puzzle'\n",
            " 'Blogaway for Android (Blogger)' 'Blogger' \"Bloglovin'\" 'Blood Donor'\n",
            " 'Blood Pressure' 'Blood Pressure Log - MyDiary'\n",
            " 'Blood Pressure(BP) Diary' 'Bloomberg Professional'\n",
            " 'Bloomberg: Market & Financial News' 'Blossom Blast Saga' 'BluTV'\n",
            " 'Blur Image Background'\n",
            " 'Blur Image Background Editor (Blur Photo Editor)'\n",
            " 'Booking.com Travel Deals' 'Boxed Wholesale'\n",
            " \"Boys Photo Editor - Six Pack & Men's Suit\"\n",
            " 'Brain Waves - Binaural Beats' 'Branch'\n",
            " 'Brasileirão Pro 2018 - Série A e B'\n",
            " 'Breaking News, Local news, Attacks and Alerts Free'\n",
            " 'Brightest Flashlight Free ®' 'Brightest LED Flashlight' 'Brilliant'\n",
            " 'Brit + Co' 'British Airways' 'Browser 4G' 'Bualuang mBanking'\n",
            " 'Bubble Shooter' 'Bubble Shooter 2' 'Bubble Shooter Genies'\n",
            " 'Bubble Shooter Space' 'Bubble Witch 3 Saga' 'Buienradar - weer'\n",
            " 'Build a Bridge!' 'Bukalapak - Jual Beli Online'\n",
            " 'BukuBayi - Perkembangan Bayi' 'Burner - Free Phone Number'\n",
            " 'Buscapé - Ofertas e descontos' 'Business Calendar 2'\n",
            " 'Butterfly Live Wallpaper' 'Buzz Launcher-Smart&Free Theme'\n",
            " 'BuzzFeed: News, Tasty, Quizzes' 'BÁO MỚI - Đọc Báo, Tin Tức 24h'\n",
            " 'C Programming' 'C++ Programming' 'C++ Tutorials' 'CAIXA'\n",
            " 'CALCU™ Stylish Calculator Free' 'CATS: Crash Arena Turbo Stars'\n",
            " 'CBS News' 'CBS Sports App - Scores, News, Stats & Watch Live'\n",
            " 'CBS Sports Fantasy' 'CDL Practice Test 2018 Edition'\n",
            " 'CIA - Caller ID & Call Blocker'\n",
            " 'CM Browser - Ad Blocker , Fast Download , Privacy'\n",
            " 'CM Flashlight (Compass, SOS)'\n",
            " 'CM Launcher 3D - Theme, Wallpapers, Efficient'\n",
            " 'CM Locker - Security Lockscreen' 'CMB Free Dating App'\n",
            " 'CNBC: Breaking Business News & Live Market Data'\n",
            " 'CNN Breaking US & World News' \"COOKING MAMA Let's Cook!\" 'CVS Caremark'\n",
            " 'CW Seed' 'CWT To Go'\n",
            " 'Cache Cleaner-DU Speed Booster (booster & cleaner)' 'Caf - Mon Compte'\n",
            " 'Calculator - free calculator, multi calculator app'\n",
            " 'Calculator - unit converter' 'Calculator Plus Free'\n",
            " 'Calculator with Percent (Free)' 'Calendar Widget Month + Agenda'\n",
            " 'Calendar+ Schedule Planner App' 'Call Blocker'\n",
            " 'Call Control - Call Blocker' 'Call of Duty:Black Ops Zombies'\n",
            " 'CallApp: Caller ID, Blocker & Phone Call Recorder' 'Caller ID +'\n",
            " 'Calls & Text by Mo+' 'Calls Blacklist - Call Blocker'\n",
            " 'Calm - Meditate, Sleep, Relax' 'Calorie Counter & Diet Tracker'\n",
            " 'Calorie Counter - EasyFit free' 'Calorie Counter - MyFitnessPal'\n",
            " 'Calorie Counter - MyNetDiary' 'Cameringo Lite. Filters Camera'\n",
            " 'Candy Camera - selfie, beauty camera, photo editor'\n",
            " 'Candy Crush Jelly Saga' 'Candy Crush Soda Saga' 'Candy Day'\n",
            " 'Candy Pop Story' 'Candy Smash'\n",
            " 'Candy selfie - photo editor, live filter camera'\n",
            " 'Canva: Poster, banner, card maker & graphic design' 'Canvas Student'\n",
            " 'Cat Sim Online: Play with Cats' 'Caviar - Food Delivery'\n",
            " 'Chakra Cleansing' 'Championat' 'Chapters: Interactive Stories'\n",
            " 'Chase Mobile' 'ChatVideo Meet new people'\n",
            " 'Cheap Flights & Hotels momondo'\n",
            " 'Cheap hotel deals and discounts — Hotellook'\n",
            " 'CheapTickets – Hotels, Flights & Travel Deals'\n",
            " 'Cheapflights – Flight Search' 'CheckPoints 🏆 Rewards App' 'Checkers ✔️'\n",
            " 'Checkout 51: Grocery coupons' 'Choice Hotels'\n",
            " 'Choices: Stories You Play' 'Chrome Beta' 'Chrome Dev'\n",
            " 'Cinemark Theatres' 'Cisco Webex Meetings' 'Cisco Webex Teams'\n",
            " 'Citi Mobile®' 'Citibanamex Movil' 'Citizens Bank Mobile Banking'\n",
            " 'CityMaps2Go Plan Trips Travel Guide Offline Maps' 'Claro' 'Clash Royale'\n",
            " 'Clash of Clans' 'Color Flashlight' 'Color Road' 'Color Touch Effects'\n",
            " 'Color by Number - Draw Sandbox Pixel Art'\n",
            " 'Color by Number – New Coloring Book' 'ColorFil - Adult Coloring Book'\n",
            " 'ColorNote Notepad Notes' 'ColorSnap® Visualizer'\n",
            " 'Colorfit - Drawing & Coloring'\n",
            " 'Colorful Glitter Neon Butterfly Keyboard Theme'\n",
            " 'Colorfy: Coloring Book for Adults - Free' 'Coloring & Learn'\n",
            " 'Common Core' 'Comptia A+ 220-901 & 220-902' 'ConnectLine' 'Contacts'\n",
            " 'Contacts+' 'Content Transfer' 'ConvertPad - Unit Converter'\n",
            " 'Cookbook Recipes' 'Cooking Channel' 'Cooking Fever'\n",
            " \"Cooking Madness - A Chef's Restaurant Games\" 'Cookpad'\n",
            " 'Cool Popular Ringtones 2018 🔥' 'Cool Reader'\n",
            " 'Couch to 10K Running Trainer' 'Couch to 5K by RunDouble'\n",
            " 'Couchsurfing Travel App' 'Couple - Relationship App' 'Credit Karma'\n",
            " 'Credit Sesame' 'CreditWise from Capital One'\n",
            " 'Crew - Free Messaging and Scheduling'\n",
            " 'Cricbuzz - Live Cricket Scores & News' 'Cricket Visual Voicemail'\n",
            " 'Crossy Road' 'Current debit card and app made for teens'\n",
            " 'Curriculum vitae App CV Builder Free Resume Maker'\n",
            " 'Curso de Ingles Gratis' 'Cut the Rope 2' 'Cut the Rope FULL FREE'\n",
            " 'Cycling - Bike Tracker'\n",
            " 'Cymera Camera- Photo Editor, Filter,Collage,Layout'\n",
            " 'Czech Public Transport IDOS' 'DC Comics'\n",
            " 'DEAD TARGET: FPS Zombie Apocalypse Survival Games' 'DEER HUNTER 2018'\n",
            " 'DELISH KITCHEN - 無料レシピ動画で料理を楽しく・簡単に！' 'DINO HUNTER: DEADLY SHORES'\n",
            " 'DIY Garden Ideas' 'DIY On A Budget'\n",
            " 'DMV Permit Practice Test 2018 Edition' 'DRAGON BALL LEGENDS'\n",
            " 'DSLR Camera Hd Ultra Professional' 'DStv Now'\n",
            " 'DU Browser—Browse fast & fun'\n",
            " 'DU Recorder – Screen Recorder, Video Editor, Live'\n",
            " 'Daily Workouts - Exercise Fitness Routine Trainer'\n",
            " 'Daily Yoga - Yoga Fitness Plans'\n",
            " 'Dailyhunt (Newshunt) - Latest News, Viral Videos' 'Dairy Queen'\n",
            " 'Daniel Tiger for Parents' 'DashClock Widget'\n",
            " 'Dashlane Free Password Manager' 'Dating App, Flirt & Chat : W-Match'\n",
            " 'Dating for 50 plus Mature Singles – FINALLY' 'Daum Mail - 다음 메일'\n",
            " \"Davis's Drug Guide\" \"Davis's Drug Guide for Nurses\" 'Debonairs Pizza'\n",
            " 'Delivery Club–Доставка еды:пицца,суши,бургер,салат' 'Delta Dental'\n",
            " 'Despegar.com Hoteles y Vuelos' 'Detector de Radares Gratis'\n",
            " 'Device Help' 'Diabetes:M' 'Diamond Zipper Lock Screen' 'Diary with lock'\n",
            " 'Diary with lock password' 'Dictionary - Merriam-Webster'\n",
            " 'Die TK-App – alles im Griff' 'Digg' 'DigiCal Calendar Agenda'\n",
            " 'Digit Save Money Automatically' 'Digital Alarm Clock' 'Dil Mil'\n",
            " 'Dino War: Rise of Beasts' 'Dinosaur Simulator: Dino World'\n",
            " 'Discover Mobile' 'Disney Heroes: Battle Mode'\n",
            " 'Disney Magic Kingdoms: Build Your Own Magical Park'\n",
            " 'DisneyNOW – TV Shows & Games' 'Divar' 'Do It Later: Tasks & To-Dos'\n",
            " 'Docs To Go™ Free Office Suite' 'Doctor On Demand' 'Doctor Pets'\n",
            " 'Dog Licks Screen Wallpaper' 'Dog Run - Pet Dog Simulator'\n",
            " 'Dog Sim Online: Raise a Family' \"Domino's Pizza USA\" 'Dominos Game ✔️'\n",
            " 'Domofond Недвижимость. Купить, снять квартиру.' 'Doodle Jump'\n",
            " 'Door Lock Screen' 'DoorDash - Food Delivery'\n",
            " 'Dosecast - Medication Reminder' 'Down Dog: Great Yoga Anywhere'\n",
            " 'Dr. Oetker Rezeptideen' 'Dr. Panda Restaurant 3'\n",
            " 'Dr. Panda Town: Vacation' 'DraftKings - Daily Fantasy Sports'\n",
            " 'Dragon Hills' 'Draw A Stickman' 'Draw In' 'Draw Your Game'\n",
            " 'Draw a Stickman: EPIC 2'\n",
            " 'Drawing for Kids Learning Games for Toddlers age 3'\n",
            " 'Dream League Soccer 2018' 'DreamTrips' 'Dresses Ideas & Fashions +3000'\n",
            " 'Droid Zap by Motorola' 'DroidAdmin for Android - Advice'\n",
            " 'Drugs.com Medication Guide' 'Dude Perfect 2'\n",
            " 'Dumb Ways to Die 2: The Games'\n",
            " 'Dungeon Hunter Champions: Epic Online Action RPG' \"Dunkin' Donuts\"\n",
            " 'Duolingo: Learn Languages Free' 'DuraSpeed' 'E*TRADE Mobile'\n",
            " 'Easy - taxi, car, ridesharing' 'Easy Hair Style Design'\n",
            " 'Easy Healthy Recipes' 'Easy Installer - Apps On SD'\n",
            " 'Easy Makeup Tutorials' 'Easy Origami Ideas' 'Easy Recipes'\n",
            " 'Easy Voice Recorder' 'EasyBib: Citation Generator'\n",
            " 'Eat Fit - Diet and Health Free' 'Eat24 Food Delivery & Takeout'\n",
            " 'EatStreet Food Delivery App'\n",
            " 'Ebates: Cash Back, Coupons, Rewards & Savings' 'Ebook Reader'\n",
            " 'Ecobank Mobile Banking' 'Edmodo' 'Educational Games 4 Kids'\n",
            " 'Educational Games for Kids' 'El tiempo de AEMET'\n",
            " 'English with Lingualeo' 'English-Myanmar Dictionary' 'Entel'\n",
            " 'Enterprise Rent-A-Car' 'Episode - Choose Your Story' 'Epocrates Plus'\n",
            " 'Essential Resources' 'Etta Homes' 'Eurosport'\n",
            " 'Eve Period Tracker - Love, Sex & Relationships App'\n",
            " 'Even - organize your money, get paid early'\n",
            " 'Evernote – Organizer, Planner for Notes & Memos' 'Evie Launcher'\n",
            " 'ExDialer - Dialer & Contacts' 'Expense IQ Money Manager'\n",
            " 'Experian - Free Credit Report' 'Extreme Car Driving Simulator'\n",
            " 'Extreme Coupon Finder' 'Extreme Match'\n",
            " 'Extreme Racing 2 - Real driving RC cars game!' 'EyeCloud'\n",
            " 'EyeEm - Camera & Photo Filter' 'EzCalculator'\n",
            " 'FBReader: Favorite Book Reader' 'FERZU - Furries Social Network'\n",
            " 'FINAL FANTASY BRAVE EXVIUS' 'FOSSIL Q: DESIGN YOUR DIAL'\n",
            " 'FOX Sports: Live Streaming, Scores & News'\n",
            " 'FREEDOME VPN Unlimited anonymous Wifi Security'\n",
            " 'FUN Keyboard – Emoji Keyboard, Sticker,Theme & GIF'\n",
            " 'Fabulous: Motivate Me! Meditate, Relax, Sleep'\n",
            " 'Face Filter, Selfie Editor - Sweet Camera' 'Facebook'\n",
            " 'Facebook Ads Manager' 'Facebook Lite' 'Facebook Local'\n",
            " 'Facebook Pages Manager' 'Facetune - Ad Free'\n",
            " 'Fake Call - Fake Caller ID' 'Fallout Shelter'\n",
            " 'Family Album Mitene: Private Photo & Video Sharing' 'Family Dollar'\n",
            " 'Family GPS Tracker and Chat + Baby Monitor Online'\n",
            " 'Family GPS tracker KidControl + GPS by SMS Locator'\n",
            " 'Family Locator - GPS Tracker' 'FamilySearch Tree'\n",
            " 'FanDuel: Daily Fantasy Sports' 'Fancy Widgets'\n",
            " 'Fandango Movies - Times + Tickets' 'Fantasy Football'\n",
            " 'Fantasy Football & NFL News' 'Fantasy Football Manager (FPL)'\n",
            " 'Farm Fruit Pop: Party Time' 'Farm Heroes Saga' 'Farming Simulator 14'\n",
            " 'Farming Simulator 18' 'Fast News' 'Fast Scanner : Free PDF Scan'\n",
            " 'Fast Secure VPN' 'FastMeet: Chat, Dating, Love'\n",
            " 'Fat Burning Workout - Home Weight lose' 'Fate/Grand Order (English)'\n",
            " 'FidMe Loyalty Cards & Deals at Grocery Supermarket'\n",
            " 'File Browser by Astro (File Manager)' 'File Explorer' 'File Manager'\n",
            " 'File Manager -- Take Command of Your Files Easily'\n",
            " 'Files Go by Google: Free up space on your phone'\n",
            " 'FilterGrid - Cam&Photo Editor' 'Filters for B Live' 'Filters for Selfie'\n",
            " 'Final Fantasy XV: A New Empire' 'Financial Times'\n",
            " 'Find Dining Restaurant Finder' 'Find a Way: Addictive Puzzle'\n",
            " 'Find&Save - Local Shopping' 'FindShip' 'Firefox Browser fast & private'\n",
            " 'Firefox Focus: The privacy browser' 'Fishdom' 'Fitbit' 'Flashlight'\n",
            " 'Flashlight & LED Torch' 'Flashlight - Torch LED Light'\n",
            " 'Flashlight HD LED' 'Flickr' 'Flight & Hotel Booking App - ixigo'\n",
            " 'Flightradar24 Flight Tracker' 'Flights' 'Flip the Gun - Simulator Game'\n",
            " 'FlipaClip - Cartoon animation' 'Flipboard: News For Our Time'\n",
            " 'Flipkart Online Shopping App' 'Flipp - Weekly Shopping'\n",
            " 'Flippy Campus - Buy & sell on campus at a discount'\n",
            " 'FlirtChat - ♥Free Dating/Flirting App♥' 'Floor Plan Creator' 'Flow Free'\n",
            " 'Flowers Live Wallpaper' 'Fly Delta' 'FollowMyHealth®'\n",
            " 'Font Studio- Photo Texts Image' 'Food Calorie Calculator' 'Food Network'\n",
            " 'Fooducate Healthy Weight Loss & Calorie Counter'\n",
            " 'Foot Mercato : transferts, résultats, news, live' 'Football Live Scores'\n",
            " 'ForecaWeather' 'Fortune City - A Finance App' 'Four In A Line'\n",
            " 'Four In A Line Free' 'Foursquare City Guide'\n",
            " 'Foursquare Swarm: Check In' 'Fox Business'\n",
            " 'Fox News – Breaking News, Live Video & News Alerts'\n",
            " 'Fraction Calculator Plus Free' 'Free & Premium VPN - FinchVPN'\n",
            " 'Free Dating & Flirt Chat - Choice of Love'\n",
            " 'Free Dating App & Flirt Chat - Cheers'\n",
            " 'Free Dating App & Flirt Chat - Match with Singles'\n",
            " 'Free Dating App - Meet Local Singles - Flirt Chat'\n",
            " 'Free Dating App - YoCutie - Flirt, Chat & Meet'\n",
            " 'Free Dating Hook Up Messenger'\n",
            " 'Free Foreclosure Real Estate Search by USHUD.com' 'Free Hypnosis'\n",
            " 'Free Live Talk-Video Call' 'Free Panda Radio Music' 'Free Sports TV'\n",
            " 'Free TV Shows App:News, TV Series, Episode, Movies'\n",
            " 'Free VIN Report for Used Cars' 'Free live weather on screen'\n",
            " 'Free phone calls, free texting SMS on free number'\n",
            " 'FreePrints – Free Photos Delivered'\n",
            " 'Freeletics: Personal Trainer & Fitness Workouts'\n",
            " 'Freeme Launcher—Stylish Theme' 'Fresh EBT - Food Stamp Balance'\n",
            " 'FreshBooks Classic' 'Frontback - Social Photos' 'Frozen Free Fall'\n",
            " 'Fruit Block - Puzzle Legend' 'Fruit Ninja®' 'Fruits Bomb'\n",
            " 'Fuelio: Gas log & costs' 'Full Screen Caller ID' 'Fun Kid Racing'\n",
            " 'Fun Kid Racing - Motocross' 'Funny Alarm Clock Ringtones' 'Funny Pics'\n",
            " 'Fuzzy Seasons: Animal Forest' 'G Cloud Backup'\n",
            " 'GANMA! - オリジナル漫画が全話無料で読み放題' 'GCash - Buy Load, Pay Bills, Send Money'\n",
            " 'GMAT Math Flashcards' 'GMAT Question Bank' 'GMX Mail'\n",
            " 'GO Keyboard - Cute Emojis, Themes and GIFs'\n",
            " 'GO Keyboard - Emoticon keyboard, Free Theme, GIF' 'GO Notifier'\n",
            " 'GO SMS Pro - Messenger, Free Themes, Emoji'\n",
            " 'GO Weather - Widget, Theme, Wallpaper, Efficient' 'GPS Map Free'\n",
            " 'GPS Speedometer and Odometer' 'GPS Speedometer, Distance Meter'\n",
            " 'GPS Status & Toolbox'\n",
            " 'GPS Traffic Speedcam Route Planner by ViaMichelin' 'GRE Flashcards'\n",
            " 'GRE Prep & Practice by Magoosh' 'GRE Tutor' 'GS SHOP'\n",
            " 'GUNSHIP BATTLE: Helicopter 3D' 'Galactic Core Free Wallpaper'\n",
            " 'Galaxy Attack: Alien Shooter' 'Game of Thrones: Conquest™'\n",
            " 'Gametime - Tickets to Sports, Concerts, Theater' 'Garden Coloring Book'\n",
            " 'Garden Fruit Legend' 'Garden Photo Frames - Garden Photo Editor'\n",
            " 'Gardenscapes' 'Garena Free Fire' 'Garmin Connect™'\n",
            " 'GasBuddy: Find Cheap Gas' 'Gems or jewels ?' 'Genius Scan - PDF Scanner'\n",
            " 'Gmail' 'GoBank' 'GoPro (formerly Capture)' 'Goal Live Scores'\n",
            " 'Goibibo - Flight Hotel Bus Car IRCTC Booking App' 'Goku Wallpaper Art'\n",
            " 'Gold Butterfly Keyboard Theme' 'Golden Dictionary (EN-AR)'\n",
            " 'Golden Launcher' 'Goldstar: Live Event Tickets' 'Golf Channel'\n",
            " 'Golf GPS Rangefinder: Golf Pad' 'Golf GPS by SwingxSwing'\n",
            " 'GolfLogix GPS + Putt Breaks'\n",
            " 'GolfNow: Tee Time Deals at Golf Courses, Golf GPS'\n",
            " 'Golfshot Plus: Golf GPS' 'GoodRx Drug Prices and Coupons' 'Google'\n",
            " 'Google Ads' 'Google Duo - High Quality Video Calls' 'Google Earth'\n",
            " 'Google Fit - Fitness Tracking' 'Google Handwriting Input' 'Google Keep'\n",
            " 'Google News' 'Google Photos' 'Google Primer' 'Google Slides'\n",
            " 'Google Street View' 'Google Translate' 'Google Trips - Travel Planner'\n",
            " 'Google Voice' 'Google+' 'Granny' 'Graphing Calculator'\n",
            " 'Grim Soul: Dark Fantasy Survival' 'Groovebook Photo Books & Gifts'\n",
            " 'GroupMe' 'Groupon - Shop Deals, Discounts & Coupons' 'Guns of Glory'\n",
            " 'H Pack' 'H TV' 'H&M' 'HBO GO: Stream with TV Package' 'HD Camera'\n",
            " 'HD Camera - Best Cam with filters & panorama'\n",
            " 'HD Camera - Quick Snap Photo & Video' 'HD Camera Pro for Android'\n",
            " 'HD Camera Ultra' 'HD Camera for Android' 'HD Movie Video Player'\n",
            " 'HD Video Player' 'HD Widgets' 'HDFC Bank MobileBanking'\n",
            " 'HESI A2 Pocket Prep' 'HISTORY: Watch TV Show Full Episodes & Specials'\n",
            " 'HTC Calendar' 'HTC File Manager' 'HTC Gallery' 'HTC Help'\n",
            " 'HTC Lock Screen' 'HTC Mail' 'HTC Sense Input' 'HTC Sense Input-AR'\n",
            " 'HTC Service － DLNA' 'HTC Service—Video Player'\n",
            " 'HTC Social Plugin - Facebook' 'HTC Speak' 'HTC Weather'\n",
            " \"Hacker's Keyboard\" 'Hairstyles step by step'\n",
            " 'Hamilton — The Official App' 'Hangouts' 'Happify'\n",
            " 'Happy Birthday Songs Offline' 'Happy Fruits Bomb - Cube Blast'\n",
            " 'Happy Street' 'Harkins Theatres' 'Harry Potter: Hogwarts Mystery'\n",
            " 'HauteLook' 'Hay Day' 'Haystack TV: Local & World News - Free'\n",
            " 'Headspace: Meditation & Mindfulness' 'Health and Nutrition Guide'\n",
            " 'HealtheLife' 'Healthy Recipes Free' 'Helix Jump' 'Hello Kitty Lunchbox'\n",
            " 'Hello Kitty Nail Salon' 'Hello Stars'\n",
            " 'HelloTalk — Chat, Speak & Learn Foreign Languages' 'Hero Hunters'\n",
            " 'Herpes Dating: 1,000K+ Singles' 'Herpes Positive Singles Dating'\n",
            " 'Hide App, Private Dating, Safe Chat - PrivacyHider'\n",
            " 'Hide Something - Photo, Video' 'Hideman VPN'\n",
            " 'High Blood Pressure Symptoms' 'High-Powered Flashlight'\n",
            " 'High-Speed Camera (GIF,Burst)' 'Hill Climb Racing' 'Hill Climb Racing 2'\n",
            " 'Hily: Dating, Chat, Match, Meet & Hook up'\n",
            " 'Hinge: Dating & Relationships' 'HipChat - Chat Built for Teams'\n",
            " 'Hipmunk Hotels & Flights' 'Hitwe - meet people and chat'\n",
            " 'Hole19: Golf GPS App, Rangefinder & Scorecard'\n",
            " 'Home Decor Showpiece Art making: Medium Difficulty'\n",
            " 'Home Scouting® MLS Mobile'\n",
            " 'Home Security Camera WardenCam - reuse old phones'\n",
            " 'Home Street – Home Design Game' 'Home Workout - No Equipment'\n",
            " 'Home Workout for Men - Bodybuilding'\n",
            " 'Home workouts - fat burning, abs, legs, arms,chest' 'HomeWork'\n",
            " 'Homes.com 🏠 For Sale, Rent' 'Homescapes'\n",
            " 'Homesnap Real Estate & Rentals'\n",
            " 'Homestyler Interior Design & Decorating Ideas' 'Homework Planner'\n",
            " 'Horoscopes – Daily Zodiac Horoscope and Astrology'\n",
            " 'Horses Live Wallpaper' 'Hostelworld: Hostels & Cheap Hotels Travel App'\n",
            " 'Hot Wheels: Race Off' 'HotelTonight: Book amazing deals at great hotels'\n",
            " 'Hotels Combined - Cheap deals'\n",
            " 'Hotels.com: Book Hotel Rooms & Find Vacation Deals'\n",
            " 'Hotspot Shield Free VPN Proxy & Wi-Fi Security' 'Hotstar'\n",
            " 'Hotwire Hotel & Car Rental App' 'Housing-Real Estate & Property']\n",
            "---------------------------------------------------------------------------\n",
            "no of unique values of  Translated_Review  column : 22933\n",
            "unique values:\n",
            "['Almost mobile phone'\n",
            " 'Very effective, efficient convenient find available jobs. Keep good work power 104 Job Search.'\n",
            " 'Easy intuitive' ...\n",
            " 'Dumb app, I wanted post property rent give option. Website work. Waste time space phone.'\n",
            " 'I property business got link SMS happy performance still guys need raise bar guys Cheers'\n",
            " 'Useless app, I searched flats kondapur, Hyderabad . None number reachable I know flats unavailable would keep posts active']\n",
            "---------------------------------------------------------------------------\n",
            "no of unique values of  Sentiment  column : 3\n",
            "unique values:\n",
            "['Neutral' 'Positive' 'Negative']\n",
            "---------------------------------------------------------------------------\n",
            "no of unique values of  Sentiment_Polarity  column : 4463\n",
            "unique values:\n",
            "[ 0.          0.62666667  0.43333333 ... -0.52857143 -0.37777778\n",
            "  0.17333333]\n",
            "---------------------------------------------------------------------------\n",
            "no of unique values of  Sentiment_Subjectivity  column : 3670\n",
            "unique values:\n",
            "[0.         0.66666667 0.83333333 ... 0.51145833 0.7172619  0.2594697 ]\n"
          ]
        }
      ]
    },
    {
      "cell_type": "code",
      "source": [
        "import string\n",
        "string.punctuation"
      ],
      "metadata": {
        "colab": {
          "base_uri": "https://localhost:8080/",
          "height": 35
        },
        "id": "q7ptRqBNvCrv",
        "outputId": "1fc6aeaa-d6fe-4ca1-d4d5-1e1e85a65242"
      },
      "execution_count": null,
      "outputs": [
        {
          "output_type": "execute_result",
          "data": {
            "text/plain": [
              "'!\"#$%&\\'()*+,-./:;<=>?@[\\\\]^_`{|}~'"
            ],
            "application/vnd.google.colaboratory.intrinsic+json": {
              "type": "string"
            }
          },
          "metadata": {},
          "execution_count": 14
        }
      ]
    },
    {
      "cell_type": "code",
      "source": [
        "quotes = '\"'\n",
        " #Removing double quotes\n",
        "def remove_quotes(text):\n",
        "    for char in quotes:\n",
        "      text = text.replace(char, '')\n",
        "      return text\n"
      ],
      "metadata": {
        "id": "G3Jgx7M1vclu"
      },
      "execution_count": null,
      "outputs": []
    },
    {
      "cell_type": "markdown",
      "source": [
        " **Transferring dataframe to csv file**"
      ],
      "metadata": {
        "id": "SAVaO1ffstU4"
      }
    },
    {
      "cell_type": "code",
      "source": [
        "clean_df['Translated_Review'].apply(remove_quotes)"
      ],
      "metadata": {
        "colab": {
          "base_uri": "https://localhost:8080/"
        },
        "id": "_3B4Ky8Hwg_o",
        "outputId": "5673d9e6-fe99-4953-ca88-0856bb3e3a75"
      },
      "execution_count": null,
      "outputs": [
        {
          "output_type": "execute_result",
          "data": {
            "text/plain": [
              "202                                    Almost mobile phone\n",
              "203      Very effective, efficient convenient find avai...\n",
              "204                                         Easy intuitive\n",
              "205                          good searching job internship\n",
              "206                    Not bad, price little bit expensive\n",
              "                               ...                        \n",
              "64222    Most ads older many agents ..not much owner po...\n",
              "64223    If photos posted portal load, fit purpose. I'm...\n",
              "64226    Dumb app, I wanted post property rent give opt...\n",
              "64227    I property business got link SMS happy perform...\n",
              "64230    Useless app, I searched flats kondapur, Hydera...\n",
              "Name: Translated_Review, Length: 24254, dtype: object"
            ]
          },
          "metadata": {},
          "execution_count": 20
        }
      ]
    },
    {
      "cell_type": "code",
      "source": [
        "#print(df['Translated_Review'].unique())\n",
        "#print(df[df['Category']=='1.9'])\n",
        "#df.drop(\"Life Made WI-Fi Touchscreen Photo Frame\",inplace=True)\n",
        "#print(df['Category'].unique())"
      ],
      "metadata": {
        "id": "BVCuTzJ5-izo"
      },
      "execution_count": null,
      "outputs": []
    },
    {
      "cell_type": "code",
      "source": [
        "df.to_csv(\"cleaned_review.csv\")\n",
        "df.info()"
      ],
      "metadata": {
        "id": "osJTQkXZQmdH",
        "colab": {
          "base_uri": "https://localhost:8080/"
        },
        "outputId": "7dfa0d7f-d2e2-4503-96c1-5a8e7cb9374a"
      },
      "execution_count": null,
      "outputs": [
        {
          "output_type": "stream",
          "name": "stdout",
          "text": [
            "<class 'pandas.core.frame.DataFrame'>\n",
            "Index: 22593 entries, 104 找工作 - 找工作 找打工 找兼職 履歷健檢 履歷診療室 to Housing-Real Estate & Property\n",
            "Data columns (total 4 columns):\n",
            " #   Column                  Non-Null Count  Dtype  \n",
            "---  ------                  --------------  -----  \n",
            " 0   Translated_Review       22593 non-null  object \n",
            " 1   Sentiment               22593 non-null  object \n",
            " 2   Sentiment_Polarity      22593 non-null  float64\n",
            " 3   Sentiment_Subjectivity  22593 non-null  float64\n",
            "dtypes: float64(2), object(2)\n",
            "memory usage: 882.5+ KB\n"
          ]
        }
      ]
    }
  ]
}