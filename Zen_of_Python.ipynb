{
  "nbformat": 4,
  "nbformat_minor": 0,
  "metadata": {
    "colab": {
      "provenance": [],
      "authorship_tag": "ABX9TyPOi/Rqx+MKvGPH0AuW3IbY",
      "include_colab_link": true
    },
    "kernelspec": {
      "name": "python3",
      "display_name": "Python 3"
    },
    "language_info": {
      "name": "python"
    }
  },
  "cells": [
    {
      "cell_type": "markdown",
      "metadata": {
        "id": "view-in-github",
        "colab_type": "text"
      },
      "source": [
        "<a href=\"https://colab.research.google.com/github/BaniBrinkman/BaniBrinkman/blob/main/Zen_of_Python.ipynb\" target=\"_parent\"><img src=\"https://colab.research.google.com/assets/colab-badge.svg\" alt=\"Open In Colab\"/></a>"
      ]
    },
    {
      "cell_type": "markdown",
      "source": [
        "# Zen of Python"
      ],
      "metadata": {
        "id": "Ufe0ul_R178a"
      }
    },
    {
      "cell_type": "markdown",
      "source": [
        "*by Tim Peters*"
      ],
      "metadata": {
        "id": "fw9Xn_2O3vst"
      }
    },
    {
      "cell_type": "code",
      "execution_count": 4,
      "metadata": {
        "id": "8vjh8N1g1yFf"
      },
      "outputs": [],
      "source": [
        "import this"
      ]
    }
  ]
}